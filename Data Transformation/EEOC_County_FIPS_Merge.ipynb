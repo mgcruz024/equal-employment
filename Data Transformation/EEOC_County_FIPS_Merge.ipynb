{
 "cells": [
  {
   "cell_type": "markdown",
   "id": "f8d3dd93-8c83-44f1-b070-46c28a71fbcf",
   "metadata": {},
   "source": [
    "___\n",
    "\n",
    "<a href='https://www.eeoc.gov/data/job-patterns-minorities-and-women-private-industry-eeo-1-0'><img src='eeoc_logo.png'/></a>\n",
    "___\n",
    "\n",
    "<center><em>ISDS 577 Capstone Project</em></center>\n",
    "<center><em>For more information, visit <a href='https://www.eeoc.gov/data/job-patterns-minorities-and-women-private-industry-eeo-1-0'>www.eeoc.gov</a></em></center>"
   ]
  },
  {
   "cell_type": "markdown",
   "id": "15c00928-fe43-474b-a223-daea572af214",
   "metadata": {},
   "source": [
    "# EEO and Counties Merge\n",
    "\n",
    "About this notebook:\n",
    "\n",
    "- Adding county codes to the EEOC dataset by merging it with a df containing county codes.\n",
    "\n",
    "\n",
    "\n"
   ]
  },
  {
   "cell_type": "markdown",
   "id": "b85e3273-1a86-4e59-9a27-221ce7bcd9d7",
   "metadata": {},
   "source": [
    "## Imports"
   ]
  },
  {
   "cell_type": "code",
   "execution_count": 1,
   "id": "91d51ccc-7eb4-4fff-bda2-82c38288369c",
   "metadata": {},
   "outputs": [],
   "source": [
    "import numpy as np\n",
    "import pandas as pd\n",
    "import matplotlib.pyplot as plt\n",
    "import seaborn as sns"
   ]
  },
  {
   "cell_type": "markdown",
   "id": "81d31167-686a-45f9-9bdc-98c47d938cc9",
   "metadata": {},
   "source": [
    "## CSV"
   ]
  },
  {
   "cell_type": "code",
   "execution_count": 2,
   "id": "0de2e873-2cc4-4e3f-8d04-09b1ae5e0016",
   "metadata": {},
   "outputs": [],
   "source": [
    "eeo = pd.read_csv('EEOC_V3.csv', low_memory=False)"
   ]
  },
  {
   "cell_type": "markdown",
   "id": "f28f17d1-7473-4d64-a427-7e766cf8f917",
   "metadata": {},
   "source": [
    "## Adding FIPS into the dataset\n",
    "\n",
    "To do this, I will have to merge an existing dataset that contains FIPS, county, and state fields.\n",
    "I will be importing and merging a dataset containing per capita income data for each county in the US.\n"
   ]
  },
  {
   "cell_type": "code",
   "execution_count": 3,
   "id": "70a63c49",
   "metadata": {},
   "outputs": [],
   "source": [
    "county_df = pd.read_csv(\"US counties - education vs per capita personal income.csv\", low_memory=False)"
   ]
  },
  {
   "cell_type": "markdown",
   "id": "35ea8990",
   "metadata": {},
   "source": [
    "We only want county information so we will subset fips and county"
   ]
  },
  {
   "cell_type": "code",
   "execution_count": 4,
   "id": "7aaac2ba",
   "metadata": {},
   "outputs": [
    {
     "data": {
      "text/html": [
       "<div>\n",
       "<style scoped>\n",
       "    .dataframe tbody tr th:only-of-type {\n",
       "        vertical-align: middle;\n",
       "    }\n",
       "\n",
       "    .dataframe tbody tr th {\n",
       "        vertical-align: top;\n",
       "    }\n",
       "\n",
       "    .dataframe thead th {\n",
       "        text-align: right;\n",
       "    }\n",
       "</style>\n",
       "<table border=\"1\" class=\"dataframe\">\n",
       "  <thead>\n",
       "    <tr style=\"text-align: right;\">\n",
       "      <th></th>\n",
       "      <th>county_FIPS</th>\n",
       "      <th>county</th>\n",
       "    </tr>\n",
       "  </thead>\n",
       "  <tbody>\n",
       "    <tr>\n",
       "      <th>0</th>\n",
       "      <td>51013</td>\n",
       "      <td>Arlington, VA</td>\n",
       "    </tr>\n",
       "    <tr>\n",
       "      <th>1</th>\n",
       "      <td>35028</td>\n",
       "      <td>Los Alamos, NM</td>\n",
       "    </tr>\n",
       "    <tr>\n",
       "      <th>2</th>\n",
       "      <td>8013</td>\n",
       "      <td>Boulder, CO</td>\n",
       "    </tr>\n",
       "    <tr>\n",
       "      <th>3</th>\n",
       "      <td>24027</td>\n",
       "      <td>Howard, MD</td>\n",
       "    </tr>\n",
       "    <tr>\n",
       "      <th>4</th>\n",
       "      <td>36061</td>\n",
       "      <td>New York, NY</td>\n",
       "    </tr>\n",
       "  </tbody>\n",
       "</table>\n",
       "</div>"
      ],
      "text/plain": [
       "   county_FIPS          county\n",
       "0        51013   Arlington, VA\n",
       "1        35028  Los Alamos, NM\n",
       "2         8013     Boulder, CO\n",
       "3        24027      Howard, MD\n",
       "4        36061    New York, NY"
      ]
     },
     "execution_count": 4,
     "metadata": {},
     "output_type": "execute_result"
    }
   ],
   "source": [
    "fips = county_df[['county_FIPS', 'county']].copy()\n",
    "fips.head()"
   ]
  },
  {
   "cell_type": "markdown",
   "id": "7fecce86",
   "metadata": {},
   "source": [
    "### Now we can proceed with merging fips to eeo \n"
   ]
  },
  {
   "cell_type": "code",
   "execution_count": 5,
   "id": "fb64dbdb",
   "metadata": {},
   "outputs": [],
   "source": [
    "# Create a copy of eeo to test \n",
    "# we want to merge by county + state\n",
    "\n",
    "temp = eeo.copy()"
   ]
  },
  {
   "cell_type": "code",
   "execution_count": 6,
   "id": "0607e138",
   "metadata": {},
   "outputs": [],
   "source": [
    "states = {\n",
    "    \"Alabama\": \"AL\",\n",
    "    \"Alaska\": \"AK\",\n",
    "    \"Arizona\": \"AZ\",\n",
    "    \"Arkansas\": \"AR\",\n",
    "    \"California\": \"CA\",\n",
    "    \"Colorado\": \"CO\",\n",
    "    \"Connecticut\": \"CT\",\n",
    "    \"Delaware\": \"DE\",\n",
    "    \"Florida\": \"FL\",\n",
    "    \"Georgia\": \"GA\",\n",
    "    \"Hawaii\": \"HI\",\n",
    "    \"Idaho\": \"ID\",\n",
    "    \"Illinois\": \"IL\",\n",
    "    \"Indiana\": \"IN\",\n",
    "    \"Iowa\": \"IA\",\n",
    "    \"Kansas\": \"KS\",\n",
    "    \"Kentucky\": \"KY\",\n",
    "    \"Louisiana\": \"LA\",\n",
    "    \"Maine\": \"ME\",\n",
    "    \"Maryland\": \"MD\",\n",
    "    \"Massachusetts\": \"MA\",\n",
    "    \"Michigan\": \"MI\",\n",
    "    \"Minnesota\": \"MN\",\n",
    "    \"Mississippi\": \"MS\",\n",
    "    \"Missouri\": \"MO\",\n",
    "    \"Montana\": \"MT\",\n",
    "    \"Nebraska\": \"NE\",\n",
    "    \"Nevada\": \"NV\",\n",
    "    \"New Hampshire\": \"NH\",\n",
    "    \"New Jersey\": \"NJ\",\n",
    "    \"New Mexico\": \"NM\",\n",
    "    \"New York\": \"NY\",\n",
    "    \"North Carolina\": \"NC\",\n",
    "    \"North Dakota\": \"ND\",\n",
    "    \"Ohio\": \"OH\",\n",
    "    \"Oklahoma\": \"OK\",\n",
    "    \"Oregon\": \"OR\",\n",
    "    \"Pennsylvania\": \"PA\",\n",
    "    \"Rhode Island\": \"RI\",\n",
    "    \"South Carolina\": \"SC\",\n",
    "    \"South Dakota\": \"SD\",\n",
    "    \"Tennessee\": \"TN\",\n",
    "    \"Texas\": \"TX\",\n",
    "    \"Utah\": \"UT\",\n",
    "    \"Vermont\": \"VT\",\n",
    "    \"Virginia\": \"VA\",\n",
    "    \"Washington\": \"WA\",\n",
    "    \"West Virginia\": \"WV\",\n",
    "    \"Wisconsin\": \"WI\",\n",
    "    \"Wyoming\": \"WY\",\n",
    "    \"District of Columbia\": \"DC\",\n",
    "    \"American Samoa\": \"AS\",\n",
    "    \"Guam\": \"GU\",\n",
    "    \"Northern Mariana Islands\": \"MP\",\n",
    "    \"Puerto Rico\": \"PR\",\n",
    "    \"United States Minor Outlying Islands\": \"UM\",\n",
    "    \"U.S. Virgin Islands\": \"VI\",\n",
    "}\n",
    "    \n",
    "temp['State'] = temp['State'].replace(states)    "
   ]
  },
  {
   "cell_type": "code",
   "execution_count": 7,
   "id": "6e0267ed",
   "metadata": {},
   "outputs": [],
   "source": [
    "# merge county and state together to match fips dataset\n",
    "\n",
    "eeoc['county_state'] = eeoc[['County', 'State']].apply(lambda x: x[0] + \", \" + x[1], axis =1)"
   ]
  },
  {
   "cell_type": "code",
   "execution_count": 8,
   "id": "aac764bb",
   "metadata": {},
   "outputs": [],
   "source": [
    "# creating a fips dict to replace county_state values in eeo temp\n",
    "fips_dict = fips.set_index('county')['county_FIPS'].to_dict()"
   ]
  },
  {
   "cell_type": "code",
   "execution_count": 10,
   "id": "b36a31c5",
   "metadata": {},
   "outputs": [],
   "source": [
    "eeoc['county_state'] = eeoc['county_state'].replace(fips_dict)"
   ]
  },
  {
   "cell_type": "code",
   "execution_count": null,
   "id": "0af61036",
   "metadata": {},
   "outputs": [],
   "source": [
    "temp.columns.tolist()"
   ]
  },
  {
   "cell_type": "code",
   "execution_count": 12,
   "id": "87ef5713",
   "metadata": {},
   "outputs": [],
   "source": [
    "cols = ['Year',\n",
    "'county_state',\n",
    " 'County',\n",
    " 'State',\n",
    " 'Region',\n",
    " 'Division',\n",
    " 'Race',\n",
    " 'Gender',\n",
    " 'Industry',\n",
    " 'Job',\n",
    " 'Number of Employee',\n",
    "]\n",
    "\n",
    "temp = temp[cols]\n",
    "temp = temp.rename(columns = {'county_state':'county_FIPS'})"
   ]
  },
  {
   "cell_type": "code",
   "execution_count": 13,
   "id": "ecbca573",
   "metadata": {},
   "outputs": [
    {
     "data": {
      "text/html": [
       "<div>\n",
       "<style scoped>\n",
       "    .dataframe tbody tr th:only-of-type {\n",
       "        vertical-align: middle;\n",
       "    }\n",
       "\n",
       "    .dataframe tbody tr th {\n",
       "        vertical-align: top;\n",
       "    }\n",
       "\n",
       "    .dataframe thead th {\n",
       "        text-align: right;\n",
       "    }\n",
       "</style>\n",
       "<table border=\"1\" class=\"dataframe\">\n",
       "  <thead>\n",
       "    <tr style=\"text-align: right;\">\n",
       "      <th></th>\n",
       "      <th>Year</th>\n",
       "      <th>county_FIPS</th>\n",
       "      <th>County</th>\n",
       "      <th>State</th>\n",
       "      <th>Region</th>\n",
       "      <th>Division</th>\n",
       "      <th>Race</th>\n",
       "      <th>Gender</th>\n",
       "      <th>Industry</th>\n",
       "      <th>Job</th>\n",
       "      <th>Number of Employee</th>\n",
       "    </tr>\n",
       "  </thead>\n",
       "  <tbody>\n",
       "    <tr>\n",
       "      <th>0</th>\n",
       "      <td>2021</td>\n",
       "      <td>53077</td>\n",
       "      <td>Yakima</td>\n",
       "      <td>WA</td>\n",
       "      <td>West</td>\n",
       "      <td>Pacific</td>\n",
       "      <td>White</td>\n",
       "      <td>Male</td>\n",
       "      <td>Health Care and Social Assistance</td>\n",
       "      <td>Service</td>\n",
       "      <td>118</td>\n",
       "    </tr>\n",
       "    <tr>\n",
       "      <th>1</th>\n",
       "      <td>2021</td>\n",
       "      <td>8005</td>\n",
       "      <td>Arapahoe</td>\n",
       "      <td>CO</td>\n",
       "      <td>West</td>\n",
       "      <td>Mountain</td>\n",
       "      <td>TwoormoreRaces</td>\n",
       "      <td>Female</td>\n",
       "      <td>Administrative and Support and Waste Managemen...</td>\n",
       "      <td>Craft</td>\n",
       "      <td>3</td>\n",
       "    </tr>\n",
       "    <tr>\n",
       "      <th>2</th>\n",
       "      <td>2021</td>\n",
       "      <td>39061</td>\n",
       "      <td>Hamilton</td>\n",
       "      <td>OH</td>\n",
       "      <td>Midwest</td>\n",
       "      <td>East North Central</td>\n",
       "      <td>TwoormoreRaces</td>\n",
       "      <td>Female</td>\n",
       "      <td>Health Care and Social Assistance</td>\n",
       "      <td>Craft</td>\n",
       "      <td>9</td>\n",
       "    </tr>\n",
       "    <tr>\n",
       "      <th>3</th>\n",
       "      <td>2021</td>\n",
       "      <td>26081</td>\n",
       "      <td>Kent</td>\n",
       "      <td>MI</td>\n",
       "      <td>Midwest</td>\n",
       "      <td>East North Central</td>\n",
       "      <td>TwoormoreRaces</td>\n",
       "      <td>Female</td>\n",
       "      <td>Manufacturing</td>\n",
       "      <td>Craft</td>\n",
       "      <td>6</td>\n",
       "    </tr>\n",
       "    <tr>\n",
       "      <th>4</th>\n",
       "      <td>2021</td>\n",
       "      <td>26163</td>\n",
       "      <td>Wayne</td>\n",
       "      <td>MI</td>\n",
       "      <td>Midwest</td>\n",
       "      <td>East North Central</td>\n",
       "      <td>TwoormoreRaces</td>\n",
       "      <td>Female</td>\n",
       "      <td>Manufacturing</td>\n",
       "      <td>Craft</td>\n",
       "      <td>3</td>\n",
       "    </tr>\n",
       "  </tbody>\n",
       "</table>\n",
       "</div>"
      ],
      "text/plain": [
       "   Year county_FIPS    County State   Region            Division  \\\n",
       "0  2021       53077    Yakima    WA     West             Pacific   \n",
       "1  2021        8005  Arapahoe    CO     West            Mountain   \n",
       "2  2021       39061  Hamilton    OH  Midwest  East North Central   \n",
       "3  2021       26081      Kent    MI  Midwest  East North Central   \n",
       "4  2021       26163     Wayne    MI  Midwest  East North Central   \n",
       "\n",
       "             Race  Gender                                           Industry  \\\n",
       "0           White    Male                  Health Care and Social Assistance   \n",
       "1  TwoormoreRaces  Female  Administrative and Support and Waste Managemen...   \n",
       "2  TwoormoreRaces  Female                  Health Care and Social Assistance   \n",
       "3  TwoormoreRaces  Female                                      Manufacturing   \n",
       "4  TwoormoreRaces  Female                                      Manufacturing   \n",
       "\n",
       "       Job  Number of Employee  \n",
       "0  Service                 118  \n",
       "1    Craft                   3  \n",
       "2    Craft                   9  \n",
       "3    Craft                   6  \n",
       "4    Craft                   3  "
      ]
     },
     "execution_count": 13,
     "metadata": {},
     "output_type": "execute_result"
    }
   ],
   "source": [
    "eeoc.head()"
   ]
  },
  {
   "cell_type": "code",
   "execution_count": null,
   "id": "d52e2a22",
   "metadata": {},
   "outputs": [],
   "source": [
    "us_counties = temp[['county_FIPS', 'County', 'State', 'Region', 'Division']]\n",
    "us_counties.head()"
   ]
  },
  {
   "cell_type": "markdown",
   "id": "382c797d",
   "metadata": {},
   "source": [
    "### Export File to CSV"
   ]
  },
  {
   "cell_type": "code",
   "execution_count": null,
   "id": "0790fa38",
   "metadata": {},
   "outputs": [],
   "source": [
    "#temp.to_csv('EEO_fips.csv', index=False)\n",
    "#us_counties.to_csv('EEOC_counties.csv', index=False)"
   ]
  }
 ],
 "metadata": {
  "kernelspec": {
   "display_name": "Python 3 (ipykernel)",
   "language": "python",
   "name": "python3"
  },
  "language_info": {
   "codemirror_mode": {
    "name": "ipython",
    "version": 3
   },
   "file_extension": ".py",
   "mimetype": "text/x-python",
   "name": "python",
   "nbconvert_exporter": "python",
   "pygments_lexer": "ipython3",
   "version": "3.11.5"
  }
 },
 "nbformat": 4,
 "nbformat_minor": 5
}
