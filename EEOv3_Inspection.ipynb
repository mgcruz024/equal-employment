{
 "cells": [
  {
   "cell_type": "markdown",
   "id": "f8d3dd93-8c83-44f1-b070-46c28a71fbcf",
   "metadata": {},
   "source": [
    "___\n",
    "\n",
    "<a href='https://www.eeoc.gov/data/job-patterns-minorities-and-women-private-industry-eeo-1-0'><img src='eeoc_logo.png'/></a>\n",
    "___\n",
    "\n",
    "<center><em>ISDS 577 Capstone Project</em></center>\n",
    "<center><em>For more information, visit <a href='https://www.eeoc.gov/data/job-patterns-minorities-and-women-private-industry-eeo-1-0'>www.eeoc.gov</a></em></center>"
   ]
  },
  {
   "cell_type": "markdown",
   "id": "15c00928-fe43-474b-a223-daea572af214",
   "metadata": {},
   "source": [
    "# EEO Dataset Inspection\n",
    "\n",
    "About this dataset:\n",
    "\n",
    "\n",
    "\n",
    "    Format\n",
    "    \n",
    "    - 949346 rows and 10 columns containing categorical, discrete, and continuous variables.\n",
    "\n",
    "\n",
    "    Details\n",
    "    \n",
    "    - All records have complete data; meaning each record has values for each variable.\n",
    "    - There are 10 different jobs. The titles are ambiguous and allude to a wide range of positions/salaries.\n",
    "    - There are many states in the US that have the same 'County' name (ex: Orange County in NY, FL, CA...). \n",
    "   \n",
    "    \n",
    "    Changes\n",
    "    \n",
    "    Moving Forward\n",
    "    \n",
    "\n",
    "    Source\n",
    "    \n",
    "    - https://www.eeoc.gov/data/job-patterns-minorities-and-women-private-industry-eeo-1-0"
   ]
  },
  {
   "cell_type": "markdown",
   "id": "b85e3273-1a86-4e59-9a27-221ce7bcd9d7",
   "metadata": {},
   "source": [
    "## Imports"
   ]
  },
  {
   "cell_type": "code",
   "execution_count": 1,
   "id": "91d51ccc-7eb4-4fff-bda2-82c38288369c",
   "metadata": {},
   "outputs": [],
   "source": [
    "import numpy as np\n",
    "import pandas as pd"
   ]
  },
  {
   "cell_type": "markdown",
   "id": "81d31167-686a-45f9-9bdc-98c47d938cc9",
   "metadata": {},
   "source": [
    "## CSV"
   ]
  },
  {
   "cell_type": "code",
   "execution_count": 2,
   "id": "0de2e873-2cc4-4e3f-8d04-09b1ae5e0016",
   "metadata": {},
   "outputs": [],
   "source": [
    "eeo = pd.read_csv('../EEOC_V3.csv', low_memory=False)"
   ]
  },
  {
   "cell_type": "markdown",
   "id": "ec5c0dcc-77b2-4e6d-ae1b-0008ae90d670",
   "metadata": {},
   "source": [
    "## Obtaining Basic Information About EEO"
   ]
  },
  {
   "cell_type": "code",
   "execution_count": 3,
   "id": "ff0b33db-89c8-41a5-8449-0338e190ad88",
   "metadata": {},
   "outputs": [
    {
     "name": "stdout",
     "output_type": "stream",
     "text": [
      "<class 'pandas.core.frame.DataFrame'>\n",
      "RangeIndex: 949346 entries, 0 to 949345\n",
      "Data columns (total 10 columns):\n",
      " #   Column              Non-Null Count   Dtype \n",
      "---  ------              --------------   ----- \n",
      " 0   Year                949346 non-null  int64 \n",
      " 1   County              949346 non-null  object\n",
      " 2   State               949346 non-null  object\n",
      " 3   Region              949346 non-null  object\n",
      " 4   Division            949346 non-null  object\n",
      " 5   Race                949346 non-null  object\n",
      " 6   Gender              949346 non-null  object\n",
      " 7   Industry            949346 non-null  object\n",
      " 8   Job                 949346 non-null  object\n",
      " 9   Number of Employee  949346 non-null  int64 \n",
      "dtypes: int64(2), object(8)\n",
      "memory usage: 72.4+ MB\n"
     ]
    }
   ],
   "source": [
    "eeo.info()"
   ]
  },
  {
   "cell_type": "code",
   "execution_count": 4,
   "id": "31302d58",
   "metadata": {},
   "outputs": [
    {
     "data": {
      "text/html": [
       "<div>\n",
       "<style scoped>\n",
       "    .dataframe tbody tr th:only-of-type {\n",
       "        vertical-align: middle;\n",
       "    }\n",
       "\n",
       "    .dataframe tbody tr th {\n",
       "        vertical-align: top;\n",
       "    }\n",
       "\n",
       "    .dataframe thead th {\n",
       "        text-align: right;\n",
       "    }\n",
       "</style>\n",
       "<table border=\"1\" class=\"dataframe\">\n",
       "  <thead>\n",
       "    <tr style=\"text-align: right;\">\n",
       "      <th></th>\n",
       "      <th>Year</th>\n",
       "      <th>County</th>\n",
       "      <th>State</th>\n",
       "      <th>Region</th>\n",
       "      <th>Division</th>\n",
       "      <th>Race</th>\n",
       "      <th>Gender</th>\n",
       "      <th>Industry</th>\n",
       "      <th>Job</th>\n",
       "      <th>Number of Employee</th>\n",
       "    </tr>\n",
       "  </thead>\n",
       "  <tbody>\n",
       "    <tr>\n",
       "      <th>0</th>\n",
       "      <td>2021</td>\n",
       "      <td>Yakima</td>\n",
       "      <td>Washington</td>\n",
       "      <td>West</td>\n",
       "      <td>Pacific</td>\n",
       "      <td>White</td>\n",
       "      <td>Male</td>\n",
       "      <td>Health Care and Social Assistance</td>\n",
       "      <td>Service</td>\n",
       "      <td>118</td>\n",
       "    </tr>\n",
       "    <tr>\n",
       "      <th>1</th>\n",
       "      <td>2021</td>\n",
       "      <td>Arapahoe</td>\n",
       "      <td>Colorado</td>\n",
       "      <td>West</td>\n",
       "      <td>Mountain</td>\n",
       "      <td>TwoormoreRaces</td>\n",
       "      <td>Female</td>\n",
       "      <td>Administrative and Support and Waste Managemen...</td>\n",
       "      <td>Craft</td>\n",
       "      <td>3</td>\n",
       "    </tr>\n",
       "    <tr>\n",
       "      <th>2</th>\n",
       "      <td>2021</td>\n",
       "      <td>Hamilton</td>\n",
       "      <td>Ohio</td>\n",
       "      <td>Midwest</td>\n",
       "      <td>East North Central</td>\n",
       "      <td>TwoormoreRaces</td>\n",
       "      <td>Female</td>\n",
       "      <td>Health Care and Social Assistance</td>\n",
       "      <td>Craft</td>\n",
       "      <td>9</td>\n",
       "    </tr>\n",
       "    <tr>\n",
       "      <th>3</th>\n",
       "      <td>2021</td>\n",
       "      <td>Kent</td>\n",
       "      <td>Michigan</td>\n",
       "      <td>Midwest</td>\n",
       "      <td>East North Central</td>\n",
       "      <td>TwoormoreRaces</td>\n",
       "      <td>Female</td>\n",
       "      <td>Manufacturing</td>\n",
       "      <td>Craft</td>\n",
       "      <td>6</td>\n",
       "    </tr>\n",
       "    <tr>\n",
       "      <th>4</th>\n",
       "      <td>2021</td>\n",
       "      <td>Wayne</td>\n",
       "      <td>Michigan</td>\n",
       "      <td>Midwest</td>\n",
       "      <td>East North Central</td>\n",
       "      <td>TwoormoreRaces</td>\n",
       "      <td>Female</td>\n",
       "      <td>Manufacturing</td>\n",
       "      <td>Craft</td>\n",
       "      <td>3</td>\n",
       "    </tr>\n",
       "    <tr>\n",
       "      <th>...</th>\n",
       "      <td>...</td>\n",
       "      <td>...</td>\n",
       "      <td>...</td>\n",
       "      <td>...</td>\n",
       "      <td>...</td>\n",
       "      <td>...</td>\n",
       "      <td>...</td>\n",
       "      <td>...</td>\n",
       "      <td>...</td>\n",
       "      <td>...</td>\n",
       "    </tr>\n",
       "    <tr>\n",
       "      <th>949341</th>\n",
       "      <td>2016</td>\n",
       "      <td>St. Joseph</td>\n",
       "      <td>Indiana</td>\n",
       "      <td>Midwest</td>\n",
       "      <td>East North Central</td>\n",
       "      <td>White</td>\n",
       "      <td>Male</td>\n",
       "      <td>Finance and Insurance</td>\n",
       "      <td>MidOffandManagers</td>\n",
       "      <td>76</td>\n",
       "    </tr>\n",
       "    <tr>\n",
       "      <th>949342</th>\n",
       "      <td>2016</td>\n",
       "      <td>St. Joseph</td>\n",
       "      <td>Indiana</td>\n",
       "      <td>Midwest</td>\n",
       "      <td>East North Central</td>\n",
       "      <td>White</td>\n",
       "      <td>Male</td>\n",
       "      <td>Accommodation and Food Services</td>\n",
       "      <td>MidOffandManagers</td>\n",
       "      <td>71</td>\n",
       "    </tr>\n",
       "    <tr>\n",
       "      <th>949343</th>\n",
       "      <td>2016</td>\n",
       "      <td>St. Joseph</td>\n",
       "      <td>Indiana</td>\n",
       "      <td>Midwest</td>\n",
       "      <td>East North Central</td>\n",
       "      <td>White</td>\n",
       "      <td>Male</td>\n",
       "      <td>Other Services (except Public Administration)</td>\n",
       "      <td>MidOffandManagers</td>\n",
       "      <td>40</td>\n",
       "    </tr>\n",
       "    <tr>\n",
       "      <th>949344</th>\n",
       "      <td>2016</td>\n",
       "      <td>Vigo</td>\n",
       "      <td>Indiana</td>\n",
       "      <td>Midwest</td>\n",
       "      <td>East North Central</td>\n",
       "      <td>White</td>\n",
       "      <td>Male</td>\n",
       "      <td>Manufacturing</td>\n",
       "      <td>MidOffandManagers</td>\n",
       "      <td>144</td>\n",
       "    </tr>\n",
       "    <tr>\n",
       "      <th>949345</th>\n",
       "      <td>2016</td>\n",
       "      <td>San Luis Obispo</td>\n",
       "      <td>California</td>\n",
       "      <td>West</td>\n",
       "      <td>Pacific</td>\n",
       "      <td>Hispanic</td>\n",
       "      <td>Male</td>\n",
       "      <td>Health Care and Social Assistance</td>\n",
       "      <td>MidOffandManagers</td>\n",
       "      <td>12</td>\n",
       "    </tr>\n",
       "  </tbody>\n",
       "</table>\n",
       "<p>949346 rows × 10 columns</p>\n",
       "</div>"
      ],
      "text/plain": [
       "        Year           County       State   Region            Division  \\\n",
       "0       2021           Yakima  Washington     West             Pacific   \n",
       "1       2021         Arapahoe    Colorado     West            Mountain   \n",
       "2       2021         Hamilton        Ohio  Midwest  East North Central   \n",
       "3       2021             Kent    Michigan  Midwest  East North Central   \n",
       "4       2021            Wayne    Michigan  Midwest  East North Central   \n",
       "...      ...              ...         ...      ...                 ...   \n",
       "949341  2016       St. Joseph     Indiana  Midwest  East North Central   \n",
       "949342  2016       St. Joseph     Indiana  Midwest  East North Central   \n",
       "949343  2016       St. Joseph     Indiana  Midwest  East North Central   \n",
       "949344  2016             Vigo     Indiana  Midwest  East North Central   \n",
       "949345  2016  San Luis Obispo  California     West             Pacific   \n",
       "\n",
       "                  Race  Gender  \\\n",
       "0                White    Male   \n",
       "1       TwoormoreRaces  Female   \n",
       "2       TwoormoreRaces  Female   \n",
       "3       TwoormoreRaces  Female   \n",
       "4       TwoormoreRaces  Female   \n",
       "...                ...     ...   \n",
       "949341           White    Male   \n",
       "949342           White    Male   \n",
       "949343           White    Male   \n",
       "949344           White    Male   \n",
       "949345        Hispanic    Male   \n",
       "\n",
       "                                                 Industry                Job  \\\n",
       "0                       Health Care and Social Assistance            Service   \n",
       "1       Administrative and Support and Waste Managemen...              Craft   \n",
       "2                       Health Care and Social Assistance              Craft   \n",
       "3                                           Manufacturing              Craft   \n",
       "4                                           Manufacturing              Craft   \n",
       "...                                                   ...                ...   \n",
       "949341                              Finance and Insurance  MidOffandManagers   \n",
       "949342                    Accommodation and Food Services  MidOffandManagers   \n",
       "949343      Other Services (except Public Administration)  MidOffandManagers   \n",
       "949344                                      Manufacturing  MidOffandManagers   \n",
       "949345                  Health Care and Social Assistance  MidOffandManagers   \n",
       "\n",
       "        Number of Employee  \n",
       "0                      118  \n",
       "1                        3  \n",
       "2                        9  \n",
       "3                        6  \n",
       "4                        3  \n",
       "...                    ...  \n",
       "949341                  76  \n",
       "949342                  71  \n",
       "949343                  40  \n",
       "949344                 144  \n",
       "949345                  12  \n",
       "\n",
       "[949346 rows x 10 columns]"
      ]
     },
     "execution_count": 4,
     "metadata": {},
     "output_type": "execute_result"
    }
   ],
   "source": [
    "eeo"
   ]
  },
  {
   "cell_type": "markdown",
   "id": "a7b4b7f0-2a6e-4126-aa18-b5788673dded",
   "metadata": {},
   "source": [
    "## Data entries for each column (%)\n",
    "\n",
    "Comments:\n",
    "\n",
    "- All of the records have complete data from each column.\n",
    "- Previous dataset had 'Not Reported'; there are none here. "
   ]
  },
  {
   "cell_type": "code",
   "execution_count": 5,
   "id": "f8a17013-f5b1-4d76-9eea-0b6f2b2cd762",
   "metadata": {},
   "outputs": [
    {
     "data": {
      "text/plain": [
       "Year                  1.0\n",
       "County                1.0\n",
       "State                 1.0\n",
       "Region                1.0\n",
       "Division              1.0\n",
       "Race                  1.0\n",
       "Gender                1.0\n",
       "Industry              1.0\n",
       "Job                   1.0\n",
       "Number of Employee    1.0\n",
       "dtype: float64"
      ]
     },
     "execution_count": 5,
     "metadata": {},
     "output_type": "execute_result"
    }
   ],
   "source": [
    "perc_complete = round((eeo.notnull().sum() / len(eeo)), 3)\n",
    "perc_complete.sort_values(ascending=False)"
   ]
  },
  {
   "cell_type": "markdown",
   "id": "550cb700",
   "metadata": {},
   "source": [
    "**Create function to check whether or not a Series contains any 'Not Reported' values.**"
   ]
  },
  {
   "cell_type": "code",
   "execution_count": 6,
   "id": "11e80d47",
   "metadata": {},
   "outputs": [],
   "source": [
    "def non_report_check(x):\n",
    "    '''Checks for a 'Not Reported' value.'''\n",
    "    if x == 'Not Reported':\n",
    "        return True\n",
    "    else:\n",
    "        return False"
   ]
  },
  {
   "cell_type": "code",
   "execution_count": 7,
   "id": "1950e360",
   "metadata": {},
   "outputs": [
    {
     "data": {
      "text/plain": [
       "Year                  0\n",
       "County                0\n",
       "State                 0\n",
       "Region                0\n",
       "Division              0\n",
       "Race                  0\n",
       "Gender                0\n",
       "Industry              0\n",
       "Job                   0\n",
       "Number of Employee    0\n",
       "dtype: int64"
      ]
     },
     "execution_count": 7,
     "metadata": {},
     "output_type": "execute_result"
    }
   ],
   "source": [
    "eeo.applymap(non_report_check).sum().sort_values(ascending=False)\n",
    "# Race, Sex, and Job all have 30767 records containing 'Not Reported'"
   ]
  },
  {
   "cell_type": "markdown",
   "id": "f28f17d1-7473-4d64-a427-7e766cf8f917",
   "metadata": {},
   "source": [
    "## Inspecting each column \n",
    "We want to insure that the data accurately depicts US standards and contains enough information to proceed with our analyses."
   ]
  },
  {
   "cell_type": "markdown",
   "id": "aa09b7cd-4daa-408a-8af4-76f15a4453b2",
   "metadata": {},
   "source": [
    "#### Year"
   ]
  },
  {
   "cell_type": "code",
   "execution_count": 8,
   "id": "15fda189",
   "metadata": {},
   "outputs": [
    {
     "data": {
      "text/html": [
       "<div>\n",
       "<style scoped>\n",
       "    .dataframe tbody tr th:only-of-type {\n",
       "        vertical-align: middle;\n",
       "    }\n",
       "\n",
       "    .dataframe tbody tr th {\n",
       "        vertical-align: top;\n",
       "    }\n",
       "\n",
       "    .dataframe thead th {\n",
       "        text-align: right;\n",
       "    }\n",
       "</style>\n",
       "<table border=\"1\" class=\"dataframe\">\n",
       "  <thead>\n",
       "    <tr style=\"text-align: right;\">\n",
       "      <th></th>\n",
       "      <th>Year</th>\n",
       "      <th>County</th>\n",
       "      <th>State</th>\n",
       "      <th>Region</th>\n",
       "      <th>Division</th>\n",
       "      <th>Race</th>\n",
       "      <th>Gender</th>\n",
       "      <th>Industry</th>\n",
       "      <th>Job</th>\n",
       "      <th>Number of Employee</th>\n",
       "    </tr>\n",
       "  </thead>\n",
       "  <tbody>\n",
       "    <tr>\n",
       "      <th>0</th>\n",
       "      <td>2021</td>\n",
       "      <td>Yakima</td>\n",
       "      <td>Washington</td>\n",
       "      <td>West</td>\n",
       "      <td>Pacific</td>\n",
       "      <td>White</td>\n",
       "      <td>Male</td>\n",
       "      <td>Health Care and Social Assistance</td>\n",
       "      <td>Service</td>\n",
       "      <td>118</td>\n",
       "    </tr>\n",
       "    <tr>\n",
       "      <th>1</th>\n",
       "      <td>2021</td>\n",
       "      <td>Arapahoe</td>\n",
       "      <td>Colorado</td>\n",
       "      <td>West</td>\n",
       "      <td>Mountain</td>\n",
       "      <td>TwoormoreRaces</td>\n",
       "      <td>Female</td>\n",
       "      <td>Administrative and Support and Waste Managemen...</td>\n",
       "      <td>Craft</td>\n",
       "      <td>3</td>\n",
       "    </tr>\n",
       "    <tr>\n",
       "      <th>2</th>\n",
       "      <td>2021</td>\n",
       "      <td>Hamilton</td>\n",
       "      <td>Ohio</td>\n",
       "      <td>Midwest</td>\n",
       "      <td>East North Central</td>\n",
       "      <td>TwoormoreRaces</td>\n",
       "      <td>Female</td>\n",
       "      <td>Health Care and Social Assistance</td>\n",
       "      <td>Craft</td>\n",
       "      <td>9</td>\n",
       "    </tr>\n",
       "    <tr>\n",
       "      <th>3</th>\n",
       "      <td>2021</td>\n",
       "      <td>Kent</td>\n",
       "      <td>Michigan</td>\n",
       "      <td>Midwest</td>\n",
       "      <td>East North Central</td>\n",
       "      <td>TwoormoreRaces</td>\n",
       "      <td>Female</td>\n",
       "      <td>Manufacturing</td>\n",
       "      <td>Craft</td>\n",
       "      <td>6</td>\n",
       "    </tr>\n",
       "    <tr>\n",
       "      <th>4</th>\n",
       "      <td>2021</td>\n",
       "      <td>Wayne</td>\n",
       "      <td>Michigan</td>\n",
       "      <td>Midwest</td>\n",
       "      <td>East North Central</td>\n",
       "      <td>TwoormoreRaces</td>\n",
       "      <td>Female</td>\n",
       "      <td>Manufacturing</td>\n",
       "      <td>Craft</td>\n",
       "      <td>3</td>\n",
       "    </tr>\n",
       "    <tr>\n",
       "      <th>...</th>\n",
       "      <td>...</td>\n",
       "      <td>...</td>\n",
       "      <td>...</td>\n",
       "      <td>...</td>\n",
       "      <td>...</td>\n",
       "      <td>...</td>\n",
       "      <td>...</td>\n",
       "      <td>...</td>\n",
       "      <td>...</td>\n",
       "      <td>...</td>\n",
       "    </tr>\n",
       "    <tr>\n",
       "      <th>949341</th>\n",
       "      <td>2016</td>\n",
       "      <td>St. Joseph</td>\n",
       "      <td>Indiana</td>\n",
       "      <td>Midwest</td>\n",
       "      <td>East North Central</td>\n",
       "      <td>White</td>\n",
       "      <td>Male</td>\n",
       "      <td>Finance and Insurance</td>\n",
       "      <td>MidOffandManagers</td>\n",
       "      <td>76</td>\n",
       "    </tr>\n",
       "    <tr>\n",
       "      <th>949342</th>\n",
       "      <td>2016</td>\n",
       "      <td>St. Joseph</td>\n",
       "      <td>Indiana</td>\n",
       "      <td>Midwest</td>\n",
       "      <td>East North Central</td>\n",
       "      <td>White</td>\n",
       "      <td>Male</td>\n",
       "      <td>Accommodation and Food Services</td>\n",
       "      <td>MidOffandManagers</td>\n",
       "      <td>71</td>\n",
       "    </tr>\n",
       "    <tr>\n",
       "      <th>949343</th>\n",
       "      <td>2016</td>\n",
       "      <td>St. Joseph</td>\n",
       "      <td>Indiana</td>\n",
       "      <td>Midwest</td>\n",
       "      <td>East North Central</td>\n",
       "      <td>White</td>\n",
       "      <td>Male</td>\n",
       "      <td>Other Services (except Public Administration)</td>\n",
       "      <td>MidOffandManagers</td>\n",
       "      <td>40</td>\n",
       "    </tr>\n",
       "    <tr>\n",
       "      <th>949344</th>\n",
       "      <td>2016</td>\n",
       "      <td>Vigo</td>\n",
       "      <td>Indiana</td>\n",
       "      <td>Midwest</td>\n",
       "      <td>East North Central</td>\n",
       "      <td>White</td>\n",
       "      <td>Male</td>\n",
       "      <td>Manufacturing</td>\n",
       "      <td>MidOffandManagers</td>\n",
       "      <td>144</td>\n",
       "    </tr>\n",
       "    <tr>\n",
       "      <th>949345</th>\n",
       "      <td>2016</td>\n",
       "      <td>San Luis Obispo</td>\n",
       "      <td>California</td>\n",
       "      <td>West</td>\n",
       "      <td>Pacific</td>\n",
       "      <td>Hispanic</td>\n",
       "      <td>Male</td>\n",
       "      <td>Health Care and Social Assistance</td>\n",
       "      <td>MidOffandManagers</td>\n",
       "      <td>12</td>\n",
       "    </tr>\n",
       "  </tbody>\n",
       "</table>\n",
       "<p>949346 rows × 10 columns</p>\n",
       "</div>"
      ],
      "text/plain": [
       "        Year           County       State   Region            Division  \\\n",
       "0       2021           Yakima  Washington     West             Pacific   \n",
       "1       2021         Arapahoe    Colorado     West            Mountain   \n",
       "2       2021         Hamilton        Ohio  Midwest  East North Central   \n",
       "3       2021             Kent    Michigan  Midwest  East North Central   \n",
       "4       2021            Wayne    Michigan  Midwest  East North Central   \n",
       "...      ...              ...         ...      ...                 ...   \n",
       "949341  2016       St. Joseph     Indiana  Midwest  East North Central   \n",
       "949342  2016       St. Joseph     Indiana  Midwest  East North Central   \n",
       "949343  2016       St. Joseph     Indiana  Midwest  East North Central   \n",
       "949344  2016             Vigo     Indiana  Midwest  East North Central   \n",
       "949345  2016  San Luis Obispo  California     West             Pacific   \n",
       "\n",
       "                  Race  Gender  \\\n",
       "0                White    Male   \n",
       "1       TwoormoreRaces  Female   \n",
       "2       TwoormoreRaces  Female   \n",
       "3       TwoormoreRaces  Female   \n",
       "4       TwoormoreRaces  Female   \n",
       "...                ...     ...   \n",
       "949341           White    Male   \n",
       "949342           White    Male   \n",
       "949343           White    Male   \n",
       "949344           White    Male   \n",
       "949345        Hispanic    Male   \n",
       "\n",
       "                                                 Industry                Job  \\\n",
       "0                       Health Care and Social Assistance            Service   \n",
       "1       Administrative and Support and Waste Managemen...              Craft   \n",
       "2                       Health Care and Social Assistance              Craft   \n",
       "3                                           Manufacturing              Craft   \n",
       "4                                           Manufacturing              Craft   \n",
       "...                                                   ...                ...   \n",
       "949341                              Finance and Insurance  MidOffandManagers   \n",
       "949342                    Accommodation and Food Services  MidOffandManagers   \n",
       "949343      Other Services (except Public Administration)  MidOffandManagers   \n",
       "949344                                      Manufacturing  MidOffandManagers   \n",
       "949345                  Health Care and Social Assistance  MidOffandManagers   \n",
       "\n",
       "        Number of Employee  \n",
       "0                      118  \n",
       "1                        3  \n",
       "2                        9  \n",
       "3                        6  \n",
       "4                        3  \n",
       "...                    ...  \n",
       "949341                  76  \n",
       "949342                  71  \n",
       "949343                  40  \n",
       "949344                 144  \n",
       "949345                  12  \n",
       "\n",
       "[949346 rows x 10 columns]"
      ]
     },
     "execution_count": 8,
     "metadata": {},
     "output_type": "execute_result"
    }
   ],
   "source": [
    "eeo"
   ]
  },
  {
   "cell_type": "code",
   "execution_count": 9,
   "id": "fa4faa0a",
   "metadata": {},
   "outputs": [
    {
     "data": {
      "text/plain": [
       "Year\n",
       "2021    220338\n",
       "2019    163172\n",
       "2020    155782\n",
       "2016    150980\n",
       "2018    131338\n",
       "2017    127736\n",
       "Name: count, dtype: int64"
      ]
     },
     "execution_count": 9,
     "metadata": {},
     "output_type": "execute_result"
    }
   ],
   "source": [
    "eeo['Year'].value_counts()\n",
    "# Data contains records from 2016 to 2021\n",
    "# 2021 has the most records with a significant margin between 2021 and 2020. Did more companies choose to report post-COVID?"
   ]
  },
  {
   "cell_type": "markdown",
   "id": "b2cdc83c-dcab-462c-9ad1-f23f9754c1b9",
   "metadata": {},
   "source": [
    "#### Region, Division, State, County, and Region\n",
    "Comments:\n",
    "- 'Region' is inaccurate according to the 5 offical regions reported by the US Census Bureau. The Southwest and the Southeast are combined into the South.\n",
    "- The South region has the most data (perhaps because it's two regions combined) with a significant margin. The Northeast and Midwest regions have the least.\n",
    "- The South Atlantic division has the most reports followed by the Pacific division.\n",
    "- 'State' has 51 values and includes Disctrict of Columbia.\n",
    "- CA has the most records with 144,009. Big enough to perform statistical analysis on this state alone.\n",
    "- 'Counties' represents 38.13% of the counties in the United States.\n",
    "- Orange County has the most records in the US. There are multiple counties in the US named 'Orange County'."
   ]
  },
  {
   "cell_type": "markdown",
   "id": "d479cc7b",
   "metadata": {},
   "source": [
    "#### Region"
   ]
  },
  {
   "cell_type": "code",
   "execution_count": 10,
   "id": "2385bac6",
   "metadata": {},
   "outputs": [
    {
     "data": {
      "text/plain": [
       "Region\n",
       "South        355474\n",
       "West         225218\n",
       "Midwest      190376\n",
       "Northeast    178278\n",
       "Name: count, dtype: int64"
      ]
     },
     "execution_count": 10,
     "metadata": {},
     "output_type": "execute_result"
    }
   ],
   "source": [
    "eeo['Region'].value_counts()\n",
    "# This dataset has regions different from the ones listed by the US Census Bureau. Something to address with the group.\n",
    "\n",
    "# There are 5 regions in the United States: the Northeast, the Midwest, the West, the Southwest, and the Southeast.\n",
    "# https://en.wikipedia.org/wiki/List_of_regions_of_the_United_States"
   ]
  },
  {
   "cell_type": "markdown",
   "id": "0070eca9",
   "metadata": {},
   "source": [
    "#### Division"
   ]
  },
  {
   "cell_type": "code",
   "execution_count": 11,
   "id": "30e6b2e1",
   "metadata": {},
   "outputs": [
    {
     "data": {
      "text/plain": [
       "Division\n",
       "South Atlantic        213524\n",
       "Pacific               166794\n",
       "Middle Atlantic       143276\n",
       "East North Central    136956\n",
       "West South Central     98598\n",
       "Mountain               58424\n",
       "West North Central     53420\n",
       "East South Central     43352\n",
       "New England            35002\n",
       "Name: count, dtype: int64"
      ]
     },
     "execution_count": 11,
     "metadata": {},
     "output_type": "execute_result"
    }
   ],
   "source": [
    "eeo['Division'].value_counts()\n",
    "# There are 9 divisions in the United States. Column is accurate.\n",
    "# South Atlantic has the most reports followed by the Pacific."
   ]
  },
  {
   "cell_type": "markdown",
   "id": "9936f376",
   "metadata": {},
   "source": [
    "#### State"
   ]
  },
  {
   "cell_type": "code",
   "execution_count": 12,
   "id": "5731c5f9-f1f7-405c-a437-62e4e6c4a49b",
   "metadata": {},
   "outputs": [
    {
     "data": {
      "text/plain": [
       "51"
      ]
     },
     "execution_count": 12,
     "metadata": {},
     "output_type": "execute_result"
    }
   ],
   "source": [
    "eeo['State'].nunique()"
   ]
  },
  {
   "cell_type": "code",
   "execution_count": 13,
   "id": "f059f25c-b795-4454-a818-3c0bd1f7ed53",
   "metadata": {},
   "outputs": [
    {
     "data": {
      "text/plain": [
       "State\n",
       "California              124302\n",
       "Texas                    76056\n",
       "Florida                  63760\n",
       "New Jersey               52122\n",
       "New York                 49214\n",
       "Georgia                  44504\n",
       "Pennsylvania             41940\n",
       "Virginia                 36578\n",
       "Ohio                     33962\n",
       "North Carolina           32964\n",
       "Michigan                 30202\n",
       "Illinois                 28802\n",
       "Colorado                 27946\n",
       "Indiana                  23690\n",
       "Washington               23268\n",
       "Wisconsin                20300\n",
       "Tennessee                19690\n",
       "Maryland                 18348\n",
       "Minnesota                18072\n",
       "Massachusetts            17996\n",
       "Missouri                 17280\n",
       "Oregon                   14194\n",
       "South Carolina           12682\n",
       "Alabama                  11542\n",
       "Louisiana                10242\n",
       "Connecticut               8876\n",
       "Nevada                    8370\n",
       "Arizona                   7742\n",
       "Kentucky                  7690\n",
       "Oklahoma                  7420\n",
       "Kansas                    7274\n",
       "Iowa                      5806\n",
       "Utah                      4998\n",
       "Arkansas                  4880\n",
       "New Mexico                4684\n",
       "Mississippi               4430\n",
       "Hawaii                    4198\n",
       "Rhode Island              3578\n",
       "Nebraska                  3408\n",
       "District of Columbia      2858\n",
       "New Hampshire             2780\n",
       "Idaho                     2594\n",
       "Maine                     1458\n",
       "Montana                   1394\n",
       "Delaware                  1004\n",
       "South Dakota               958\n",
       "Alaska                     832\n",
       "West Virginia              826\n",
       "Wyoming                    696\n",
       "North Dakota               622\n",
       "Vermont                    314\n",
       "Name: count, dtype: int64"
      ]
     },
     "execution_count": 13,
     "metadata": {},
     "output_type": "execute_result"
    }
   ],
   "source": [
    "eeo['State'].value_counts()\n",
    "\n",
    "# Disctrict of Columbia is included.\n",
    "# California has the most records."
   ]
  },
  {
   "cell_type": "code",
   "execution_count": 14,
   "id": "9bda94b2",
   "metadata": {},
   "outputs": [
    {
     "data": {
      "text/plain": [
       "0.997"
      ]
     },
     "execution_count": 14,
     "metadata": {},
     "output_type": "execute_result"
    }
   ],
   "source": [
    "# What % of all the records will be used if we don't include District of Columbia in our research?\n",
    "\n",
    "# Dropping District of Columbia will have no siginifant effect on our research.\n",
    "round((eeo['State'].count() - len(eeo[eeo['State'] == 'District of Columbia'])) / len(eeo), 4)"
   ]
  },
  {
   "cell_type": "markdown",
   "id": "fa8c1be4",
   "metadata": {},
   "source": [
    "#### County\n",
    "\n",
    "Comments: \n",
    "\n",
    "- There are many counties with the same name in several states. \n",
    "- Consider attaching zip codes to create unique identifiers (will be used to merge salary data) or by unique geolocation combination (explore further)."
   ]
  },
  {
   "cell_type": "code",
   "execution_count": 15,
   "id": "d4e0c2fb-d1a6-48f7-ad42-2a7c7ef8f24a",
   "metadata": {},
   "outputs": [
    {
     "data": {
      "text/plain": [
       "1237"
      ]
     },
     "execution_count": 15,
     "metadata": {},
     "output_type": "execute_result"
    }
   ],
   "source": [
    "eeo['County'].nunique()\n",
    "# There are 3244 counties in the US: https://en.wikipedia.org/wiki/List_of_United_States_counties_and_county_equivalents"
   ]
  },
  {
   "cell_type": "code",
   "execution_count": 16,
   "id": "0fdc1337-979e-4e01-aa05-20713f6cd50d",
   "metadata": {},
   "outputs": [
    {
     "data": {
      "text/plain": [
       "County\n",
       "Orange          17774\n",
       "Montgomery      14368\n",
       "Jefferson       11068\n",
       "Middlesex       10394\n",
       "San Diego        9928\n",
       "Los Angeles      9436\n",
       "Dallas           9286\n",
       "Suffolk          8344\n",
       "Harris           7840\n",
       "Wayne            7760\n",
       "Marion           7536\n",
       "Hillsborough     7422\n",
       "Tarrant          7272\n",
       "Washington       7222\n",
       "Lake             7112\n",
       "Name: count, dtype: int64"
      ]
     },
     "execution_count": 16,
     "metadata": {},
     "output_type": "execute_result"
    }
   ],
   "source": [
    "eeo['County'].value_counts().head(15)\n",
    "# Is there a correlation between the wealth of county and number of records reported?"
   ]
  },
  {
   "cell_type": "markdown",
   "id": "b7961bf1",
   "metadata": {},
   "source": [
    "#### County can appear more than once.\n",
    "\n",
    "Comments:\n",
    "\n",
    "- County and State are 1:M.\n",
    "- Orange County is used as an example."
   ]
  },
  {
   "cell_type": "code",
   "execution_count": 17,
   "id": "59f9bba0",
   "metadata": {},
   "outputs": [],
   "source": [
    "counties = eeo.copy()\n",
    "orange_county = counties.set_index('County').loc['Orange']\n",
    "orange_county = orange_county.reset_index()\n"
   ]
  },
  {
   "cell_type": "code",
   "execution_count": 18,
   "id": "d60c8d40",
   "metadata": {},
   "outputs": [
    {
     "data": {
      "text/plain": [
       "County  State         \n",
       "Orange  California        9408\n",
       "        Florida           6148\n",
       "        New York          1748\n",
       "        North Carolina     382\n",
       "        Texas               50\n",
       "        Virginia            32\n",
       "        Indiana              6\n",
       "Name: count, dtype: int64"
      ]
     },
     "execution_count": 18,
     "metadata": {},
     "output_type": "execute_result"
    }
   ],
   "source": [
    "orange_county[['County', 'State']].value_counts()\n",
    "# Orange County appears in multiple states. "
   ]
  },
  {
   "cell_type": "markdown",
   "id": "dac487a1",
   "metadata": {},
   "source": [
    "#### Sector \n",
    "\n",
    "Comments:\n",
    "\n",
    "- Manufacturing and Retail Trade have the most records, followed by Health Care. Public Admin has the least (outlier).\n"
   ]
  },
  {
   "cell_type": "code",
   "execution_count": 19,
   "id": "da1c22b4",
   "metadata": {},
   "outputs": [
    {
     "data": {
      "text/plain": [
       "Industry\n",
       "Manufacturing                                                               215072\n",
       "Retail Trade                                                                159684\n",
       "Health Care and Social Assistance                                           132180\n",
       "Administrative and Support and Waste Management and Remediation Services     56286\n",
       "Warehousing                                                                  51458\n",
       "Professional, Scientific, and Technical Services                             49228\n",
       "Accommodation and Food Services                                              44954\n",
       "Wholesale Trade                                                              40630\n",
       "Finance and Insurance                                                        36638\n",
       "Information                                                                  32428\n",
       "Other Services (except Public Administration)                                25734\n",
       "Construction                                                                 22574\n",
       "Management of Companies and Enterprises                                      22002\n",
       "Arts, Entertainment, and Recreation                                          20730\n",
       "Real Estate and Rental and Leasing                                           15328\n",
       "Educational Services                                                         14584\n",
       "Utilities                                                                     5090\n",
       "Mining, Quarrying, and Oil and Gas Extraction                                 2498\n",
       "Agriculture, Forestry, Fishing and Hunting                                    2132\n",
       "Public Administration                                                          116\n",
       "Name: count, dtype: int64"
      ]
     },
     "execution_count": 19,
     "metadata": {},
     "output_type": "execute_result"
    }
   ],
   "source": [
    "eeo['Industry'].value_counts()"
   ]
  },
  {
   "cell_type": "markdown",
   "id": "4464d9ec",
   "metadata": {},
   "source": [
    "#### Race, Sex, and Job \n",
    "\n",
    "Comments:\n",
    "- **Native Indians and Pacific Islander** records are noticeably small; clear outliers here.\n",
    "- Gender has equal records.\n"
   ]
  },
  {
   "cell_type": "markdown",
   "id": "e4171dc3",
   "metadata": {},
   "source": [
    "#### Race"
   ]
  },
  {
   "cell_type": "code",
   "execution_count": 20,
   "id": "ccf7f1d7",
   "metadata": {},
   "outputs": [
    {
     "data": {
      "text/plain": [
       "Race\n",
       "White                                   271356\n",
       "Hispanic                                224316\n",
       "BlackorAfricanAmerican                  217722\n",
       "Asian                                   121252\n",
       "TwoormoreRaces                           86922\n",
       "AmericanIndianorAlaskaNative             14208\n",
       "NativeHawaiianorOtherPacificIslander     13570\n",
       "Name: count, dtype: int64"
      ]
     },
     "execution_count": 20,
     "metadata": {},
     "output_type": "execute_result"
    }
   ],
   "source": [
    "eeo['Race'].value_counts()"
   ]
  },
  {
   "cell_type": "markdown",
   "id": "15cfec3d",
   "metadata": {},
   "source": [
    "#### Sex"
   ]
  },
  {
   "cell_type": "code",
   "execution_count": 21,
   "id": "14e0ddb2",
   "metadata": {},
   "outputs": [
    {
     "data": {
      "text/plain": [
       "Gender\n",
       "Male      474673\n",
       "Female    474673\n",
       "Name: count, dtype: int64"
      ]
     },
     "execution_count": 21,
     "metadata": {},
     "output_type": "execute_result"
    }
   ],
   "source": [
    "eeo['Gender'].value_counts()"
   ]
  },
  {
   "cell_type": "markdown",
   "id": "043ba5b0",
   "metadata": {},
   "source": [
    "#### Job\n"
   ]
  },
  {
   "cell_type": "code",
   "execution_count": 22,
   "id": "397d6f1c",
   "metadata": {},
   "outputs": [
    {
     "data": {
      "text/plain": [
       "Job\n",
       "Professionals           163052\n",
       "Clericals               148064\n",
       "MidOffandManagers       140466\n",
       "Operatives              119286\n",
       "Labors                  114816\n",
       "Service                  90052\n",
       "Technicians              74138\n",
       "SalesWorkers             67448\n",
       "Craft                    22588\n",
       "SeniorOffandManagers      9436\n",
       "Name: count, dtype: int64"
      ]
     },
     "execution_count": 22,
     "metadata": {},
     "output_type": "execute_result"
    }
   ],
   "source": [
    "eeo['Job'].value_counts()\n",
    "# Jobs is ambiguous and alludes to a wide range of positions/salaries. \n",
    "# How accurate can our data be in analyzing wage disparities if we use salaries that don't accurately depict workers?"
   ]
  },
  {
   "cell_type": "markdown",
   "id": "258763ff",
   "metadata": {},
   "source": [
    "#### Sex and Job\n",
    "\n",
    "Comments: Evenly distributed among genders."
   ]
  },
  {
   "cell_type": "code",
   "execution_count": 23,
   "id": "da3e0dd1",
   "metadata": {},
   "outputs": [
    {
     "data": {
      "text/plain": [
       "Job                   Gender\n",
       "Professionals         Female    81526\n",
       "                      Male      81526\n",
       "Clericals             Male      74032\n",
       "                      Female    74032\n",
       "MidOffandManagers     Female    70233\n",
       "                      Male      70233\n",
       "Operatives            Female    59643\n",
       "                      Male      59643\n",
       "Labors                Female    57408\n",
       "                      Male      57408\n",
       "Service               Female    45026\n",
       "                      Male      45026\n",
       "Technicians           Female    37069\n",
       "                      Male      37069\n",
       "SalesWorkers          Female    33724\n",
       "                      Male      33724\n",
       "Craft                 Male      11294\n",
       "                      Female    11294\n",
       "SeniorOffandManagers  Female     4718\n",
       "                      Male       4718\n",
       "Name: count, dtype: int64"
      ]
     },
     "execution_count": 23,
     "metadata": {},
     "output_type": "execute_result"
    }
   ],
   "source": [
    "# Distribution between males and females for every Job\n",
    "eeo[['Job', 'Gender']].value_counts()"
   ]
  },
  {
   "cell_type": "markdown",
   "id": "a6b09b11",
   "metadata": {},
   "source": [
    "#### Number of Employee\n",
    "\n",
    "Comments:\n",
    "\n",
    "- Refers to the number of employees that fill a demographic (ex: 7 employees are Professionals, Black, Female, CA...)\n",
    "- We can't make inferences on the # employees yet since we don't have unique identifiers.\n"
   ]
  },
  {
   "cell_type": "code",
   "execution_count": 24,
   "id": "ba85e4eb",
   "metadata": {
    "scrolled": true
   },
   "outputs": [
    {
     "data": {
      "text/plain": [
       "count    949346.00\n",
       "mean        173.20\n",
       "std         706.46\n",
       "min           3.00\n",
       "25%          11.00\n",
       "50%          32.00\n",
       "75%         106.00\n",
       "max       48286.00\n",
       "Name: Number of Employee, dtype: float64"
      ]
     },
     "execution_count": 24,
     "metadata": {},
     "output_type": "execute_result"
    }
   ],
   "source": [
    "round((eeo['Number of Employee'].describe()), 2)\n",
    "\n",
    "# Does not really tell us much since the same location can contain multiple Employee Number records (for this dataset)."
   ]
  }
 ],
 "metadata": {
  "kernelspec": {
   "display_name": "Python 3 (ipykernel)",
   "language": "python",
   "name": "python3"
  },
  "language_info": {
   "codemirror_mode": {
    "name": "ipython",
    "version": 3
   },
   "file_extension": ".py",
   "mimetype": "text/x-python",
   "name": "python",
   "nbconvert_exporter": "python",
   "pygments_lexer": "ipython3",
   "version": "3.11.5"
  }
 },
 "nbformat": 4,
 "nbformat_minor": 5
}
